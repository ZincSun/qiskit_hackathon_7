{
 "cells": [
  {
   "cell_type": "markdown",
   "metadata": {},
   "source": [
    "Quantum Simulation of a dissipative system by utilizing intrinsic noise on NISQ device\n",
    "\n",
    "The theory of open quantum system supports most modern research in quantum mechanics and its applications in many areas. In this project, we would like to design an algorithm which utilize the noise on IBMQ system to simulate an open quantum system. We hope that our result could pave the way to a new perspective of quantum simulation.\n",
    "\n",
    "(Techinical details and background information along with diagrams are presented in the supplementary information)"
   ]
  },
  {
   "cell_type": "code",
   "execution_count": 1,
   "metadata": {},
   "outputs": [],
   "source": [
    "# Import necessary modules for math, quantum circuit, and data visualization\n",
    "import qiskit\n",
    "from qiskit import Aer, execute, QuantumCircuit, IBMQ, execute\n",
    "import numpy as np\n",
    "from numpy import pi\n",
    "import matplotlib.pyplot as plt"
   ]
  },
  {
   "cell_type": "markdown",
   "metadata": {},
   "source": [
    "The model we used to simulate is the exciton model for excitation energy transfer, which is important \n",
    "in condensed phase chemical dynamics. \n",
    "\n",
    "To encode the system into the quantum computer, we employ a Jordan-Wigner type encoding, which use qubit state to represent exciton state(occupancy), and transform the second-quantized Hamiltonian to propagate system accordingly. \n",
    "\n",
    "For the dissipative part, we append the XX-pulse (which should be an identity operation on a “perfect” quantum computer) at the end of the simulation circuit proportional to each simulation time step to introduce the desired decoherence effect due to the gate imperfection, and the proportionality constant can be tuned to achieved different magnitudes of the system-bath coupling."
   ]
  },
  {
   "cell_type": "code",
   "execution_count": 2,
   "metadata": {},
   "outputs": [],
   "source": [
    "#This function generate the disspative evolution circuit for the symmetric dimer system using the Jorden-Wigner \n",
    "#type encoding. i.e. qubit state = exciton occupation state.\n",
    "\n",
    "def generate_evolution_circuit(time, damp):\n",
    "    qc = QuantumCircuit(2,2)\n",
    "    \n",
    "    # Excite the first qubit to create |01> state, this prepares the exciton state with right one\n",
    "    # excited.\n",
    "    qc.x(0)\n",
    "    \n",
    "    # First-order trotterized evolution circuit for the target Hamiltonian (please refer to the\n",
    "    # background information)\n",
    "    # Ref: \"Scalable Quantum Simulation of Molecular Energies\" Phys. Rev. X 6, 031007\n",
    "    qc.ry(pi/2, 0)\n",
    "    qc.ry(pi/2, 1)\n",
    "    \n",
    "    qc.cx(0,1)\n",
    "    qc.rz(2*time,1)\n",
    "    qc.cx(0,1)\n",
    "    \n",
    "    qc.ry(-pi/2, 0)\n",
    "    qc.ry(-pi/2, 1)\n",
    "    \n",
    "    qc.rx(-pi/2, 0)\n",
    "    qc.rx(-pi/2, 1)\n",
    "    \n",
    "    qc.cx(0,1)\n",
    "    qc.rz(2*time,1)\n",
    "    qc.cx(0,1)\n",
    "    \n",
    "    qc.rx(pi/2, 0)\n",
    "    qc.rx(pi/2, 1)\n",
    "    \n",
    "    # XX pulses are appended at the end of the propagator circuit, with the number propotional to\n",
    "    # the simulation time. This accounts for the large damping effect in the long time dynamics.\n",
    "    # Note: XX pulses should be a identity operation for a pefect quantum computer. \n",
    "    for i in range(int(damp*time)):\n",
    "        qc.x(0)\n",
    "        qc.x(0)\n",
    "        qc.x(1)\n",
    "        qc.x(1)\n",
    "    qc.measure([0,1],[0,1])\n",
    "    \n",
    "    return qc\n"
   ]
  },
  {
   "cell_type": "code",
   "execution_count": 3,
   "metadata": {},
   "outputs": [],
   "source": [
    "#This returns the renormalized population within one-excitation manifold.\n",
    "\n",
    "def get_site_population_norm(counts, site):\n",
    "    total = counts.get('01', 0) + counts.get('10', 0)\n",
    "    \n",
    "    population = 0\n",
    "    \n",
    "    if site == 1 :\n",
    "        population = counts.get('01', 0) / total\n",
    "    if site == 2 :\n",
    "        population = counts.get('10', 0) / total\n",
    "   \n",
    "    return population"
   ]
  },
  {
   "cell_type": "code",
   "execution_count": 4,
   "metadata": {},
   "outputs": [
    {
     "name": "stdout",
     "output_type": "stream",
     "text": [
      "5f58251967453d00192294da\n"
     ]
    }
   ],
   "source": [
    "# load the account\n",
    "IBMQ.load_account()\n",
    "provider = IBMQ.get_provider(group = \"ntu-internal\")\n",
    "backend = provider.get_backend('ibmq_bogota')\n",
    "\n",
    "damp = 20\n",
    "circ_list = []\n",
    "times = np.arange(0,8,0.2)\n",
    "for t in times:\n",
    "    circ_list.append(generate_evolution_circuit(t, damp))\n",
    "job = execute(circ_list, backend = backend, optimization_level = 0, shots = 8000)\n",
    "print(job.job_id())"
   ]
  },
  {
   "cell_type": "code",
   "execution_count": 5,
   "metadata": {},
   "outputs": [
    {
     "data": {
      "image/png": "[encoded data removed]",
      "text/plain": [
       "<Figure size 432x288 with 1 Axes>"
      ]
     },
     "metadata": {
      "needs_background": "light"
     },
     "output_type": "display_data"
    }
   ],
   "source": [
    "result = job.result()\n",
    "populations_1_site = []\n",
    "\n",
    "for i in range(len(times)):\n",
    "    counts = result.get_counts(i)\n",
    "    populations_1_site.append(get_site_population_norm(counts,1))\n",
    "\n",
    "plt.title(\"Population Dynamics For Symmetric Dimer\")\n",
    "plt.plot(times,populations_1_site,label = \"1st Site\")\n",
    "plt.scatter(times,populations_1_site,label = \"1st Site\")\n",
    "plt.xlabel(\"Time (p.d.u.)\")\n",
    "plt.ylabel(\"Population (1st site)\")\n",
    "plt.legend(loc='lower right')\n",
    "plt.savefig(\"Population Dynamics\",dpi = 400)"
   ]
  }
 ],
 "metadata": {
  "kernelspec": {
   "display_name": "Python 3",
   "language": "python",
   "name": "python3"
  },
  "language_info": {
   "codemirror_mode": {
    "name": "ipython",
    "version": 3
   },
   "file_extension": ".py",
   "mimetype": "text/x-python",
   "name": "python",
   "nbconvert_exporter": "python",
   "pygments_lexer": "ipython3",
   "version": "3.6.9"
  }
 },
 "nbformat": 4,
 "nbformat_minor": 2
}
